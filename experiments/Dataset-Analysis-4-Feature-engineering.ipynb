{
 "cells": [
  {
   "cell_type": "markdown",
   "metadata": {},
   "source": [
    "# Dataset Analysis 4: Feature engineering"
   ]
  },
  {
   "cell_type": "code",
   "execution_count": 4,
   "metadata": {},
   "outputs": [],
   "source": [
    "import pandas as pd\n",
    "import numpy as np\n",
    "from datasets import *\n",
    "import matplotlib.pyplot as plt\n",
    "plt.style.use('classic')\n",
    "%matplotlib inline\n",
    "import seaborn as sns\n",
    "sns.set()\n",
    "\n",
    "from sklearn.model_selection import train_test_split\n",
    "from sklearn import svm\n",
    "from sklearn.model_selection import GridSearchCV\n",
    "from sklearn.preprocessing import StandardScaler"
   ]
  },
  {
   "cell_type": "markdown",
   "metadata": {},
   "source": [
    "## Therapy Started to First Visit time delta"
   ]
  },
  {
   "cell_type": "code",
   "execution_count": 2,
   "metadata": {},
   "outputs": [
    {
     "data": {
      "text/html": [
       "<div>\n",
       "<style scoped>\n",
       "    .dataframe tbody tr th:only-of-type {\n",
       "        vertical-align: middle;\n",
       "    }\n",
       "\n",
       "    .dataframe tbody tr th {\n",
       "        vertical-align: top;\n",
       "    }\n",
       "\n",
       "    .dataframe thead th {\n",
       "        text-align: right;\n",
       "    }\n",
       "</style>\n",
       "<table border=\"1\" class=\"dataframe\">\n",
       "  <thead>\n",
       "    <tr style=\"text-align: right;\">\n",
       "      <th></th>\n",
       "      <th>IP Gravity</th>\n",
       "      <th>Vrig Tric</th>\n",
       "      <th>Age</th>\n",
       "      <th>Survival time</th>\n",
       "      <th>Therapy Category</th>\n",
       "      <th>Antiaritmico</th>\n",
       "      <th>Weight (Kg)</th>\n",
       "      <th>Asx/Ao</th>\n",
       "      <th>E</th>\n",
       "      <th>E/A</th>\n",
       "      <th>FE %</th>\n",
       "      <th>FS %</th>\n",
       "      <th>EDVI</th>\n",
       "      <th>ESVI</th>\n",
       "      <th>Allo diast</th>\n",
       "      <th>Allo sist</th>\n",
       "      <th>Therapy to visit</th>\n",
       "    </tr>\n",
       "  </thead>\n",
       "  <tbody>\n",
       "    <tr>\n",
       "      <th>0</th>\n",
       "      <td>0</td>\n",
       "      <td>0.0</td>\n",
       "      <td>10.347945</td>\n",
       "      <td>2172</td>\n",
       "      <td>2</td>\n",
       "      <td>0</td>\n",
       "      <td>5.25</td>\n",
       "      <td>2.495146</td>\n",
       "      <td>1.15</td>\n",
       "      <td>0.974576</td>\n",
       "      <td>70.0</td>\n",
       "      <td>37.0</td>\n",
       "      <td>78.686406</td>\n",
       "      <td>23.746696</td>\n",
       "      <td>1.584502</td>\n",
       "      <td>0.988779</td>\n",
       "      <td>0</td>\n",
       "    </tr>\n",
       "    <tr>\n",
       "      <th>1</th>\n",
       "      <td>0</td>\n",
       "      <td>0.0</td>\n",
       "      <td>15.205479</td>\n",
       "      <td>341</td>\n",
       "      <td>3</td>\n",
       "      <td>0</td>\n",
       "      <td>6.00</td>\n",
       "      <td>1.609023</td>\n",
       "      <td>1.50</td>\n",
       "      <td>1.470588</td>\n",
       "      <td>83.0</td>\n",
       "      <td>51.0</td>\n",
       "      <td>130.584237</td>\n",
       "      <td>23.876482</td>\n",
       "      <td>1.942761</td>\n",
       "      <td>0.986143</td>\n",
       "      <td>0</td>\n",
       "    </tr>\n",
       "    <tr>\n",
       "      <th>2</th>\n",
       "      <td>0</td>\n",
       "      <td>0.0</td>\n",
       "      <td>15.769863</td>\n",
       "      <td>117</td>\n",
       "      <td>3</td>\n",
       "      <td>0</td>\n",
       "      <td>3.20</td>\n",
       "      <td>2.504202</td>\n",
       "      <td>1.87</td>\n",
       "      <td>2.077778</td>\n",
       "      <td>91.0</td>\n",
       "      <td>62.0</td>\n",
       "      <td>180.348219</td>\n",
       "      <td>16.221999</td>\n",
       "      <td>2.213868</td>\n",
       "      <td>0.841053</td>\n",
       "      <td>0</td>\n",
       "    </tr>\n",
       "    <tr>\n",
       "      <th>3</th>\n",
       "      <td>0</td>\n",
       "      <td>0.0</td>\n",
       "      <td>13.542466</td>\n",
       "      <td>93</td>\n",
       "      <td>4</td>\n",
       "      <td>1</td>\n",
       "      <td>26.50</td>\n",
       "      <td>3.071429</td>\n",
       "      <td>2.28</td>\n",
       "      <td>2.850000</td>\n",
       "      <td>75.0</td>\n",
       "      <td>44.0</td>\n",
       "      <td>234.165258</td>\n",
       "      <td>40.151793</td>\n",
       "      <td>2.094778</td>\n",
       "      <td>1.163766</td>\n",
       "      <td>0</td>\n",
       "    </tr>\n",
       "    <tr>\n",
       "      <th>4</th>\n",
       "      <td>0</td>\n",
       "      <td>0.0</td>\n",
       "      <td>10.720548</td>\n",
       "      <td>2172</td>\n",
       "      <td>3</td>\n",
       "      <td>0</td>\n",
       "      <td>11.00</td>\n",
       "      <td>2.536000</td>\n",
       "      <td>0.75</td>\n",
       "      <td>0.862069</td>\n",
       "      <td>69.0</td>\n",
       "      <td>38.0</td>\n",
       "      <td>139.835879</td>\n",
       "      <td>43.886680</td>\n",
       "      <td>1.981413</td>\n",
       "      <td>1.230353</td>\n",
       "      <td>182</td>\n",
       "    </tr>\n",
       "  </tbody>\n",
       "</table>\n",
       "</div>"
      ],
      "text/plain": [
       "   IP Gravity  Vrig Tric        Age  Survival time  Therapy Category  \\\n",
       "0           0        0.0  10.347945           2172                 2   \n",
       "1           0        0.0  15.205479            341                 3   \n",
       "2           0        0.0  15.769863            117                 3   \n",
       "3           0        0.0  13.542466             93                 4   \n",
       "4           0        0.0  10.720548           2172                 3   \n",
       "\n",
       "   Antiaritmico  Weight (Kg)    Asx/Ao     E       E/A  FE %  FS %  \\\n",
       "0             0         5.25  2.495146  1.15  0.974576  70.0  37.0   \n",
       "1             0         6.00  1.609023  1.50  1.470588  83.0  51.0   \n",
       "2             0         3.20  2.504202  1.87  2.077778  91.0  62.0   \n",
       "3             1        26.50  3.071429  2.28  2.850000  75.0  44.0   \n",
       "4             0        11.00  2.536000  0.75  0.862069  69.0  38.0   \n",
       "\n",
       "         EDVI       ESVI  Allo diast  Allo sist  Therapy to visit  \n",
       "0   78.686406  23.746696    1.584502   0.988779                 0  \n",
       "1  130.584237  23.876482    1.942761   0.986143                 0  \n",
       "2  180.348219  16.221999    2.213868   0.841053                 0  \n",
       "3  234.165258  40.151793    2.094778   1.163766                 0  \n",
       "4  139.835879  43.886680    1.981413   1.230353               182  "
      ]
     },
     "execution_count": 2,
     "metadata": {},
     "output_type": "execute_result"
    }
   ],
   "source": [
    "dogs = load_df_dogs_2016(dropColumns=dropNonNumeric+dropDates+dropIrrelevant+dropDead, NApolicy='normal', censoringPolicy='max', newFeats=True)\n",
    "dogs.head(5)"
   ]
  },
  {
   "cell_type": "code",
   "execution_count": 3,
   "metadata": {},
   "outputs": [
    {
     "name": "stderr",
     "output_type": "stream",
     "text": [
      "/usr/local/lib/python3.6/dist-packages/matplotlib/axes/_axes.py:6448: UserWarning: The 'normed' kwarg is deprecated, and has been replaced by the 'density' kwarg.\n",
      "  warnings.warn(\"The 'normed' kwarg is deprecated, and has been \"\n"
     ]
    },
    {
     "data": {
      "image/png": "[encoded data removed]",
      "text/plain": [
       "<Figure size 432x288 with 1 Axes>"
      ]
     },
     "metadata": {},
     "output_type": "display_data"
    }
   ],
   "source": [
    "plt.title(\"Therapy to visit\")\n",
    "sns.distplot(dogs[\"Therapy to visit\"], kde=False)\n",
    "plt.show()"
   ]
  },
  {
   "cell_type": "code",
   "execution_count": 4,
   "metadata": {},
   "outputs": [
    {
     "data": {
      "image/png": "[encoded data removed]",
      "text/plain": [
       "<Figure size 432x288 with 2 Axes>"
      ]
     },
     "metadata": {},
     "output_type": "display_data"
    }
   ],
   "source": [
    "plt.title(\"Correlation heatmap\")\n",
    "sns.heatmap(dogs.corr(), cmap=\"YlGnBu\")\n",
    "plt.show()"
   ]
  },
  {
   "cell_type": "code",
   "execution_count": 5,
   "metadata": {},
   "outputs": [
    {
     "name": "stderr",
     "output_type": "stream",
     "text": [
      "/usr/local/lib/python3.6/dist-packages/matplotlib/axes/_axes.py:6448: UserWarning: The 'normed' kwarg is deprecated, and has been replaced by the 'density' kwarg.\n",
      "  warnings.warn(\"The 'normed' kwarg is deprecated, and has been \"\n"
     ]
    },
    {
     "data": {
      "image/png": "[encoded data removed]",
      "text/plain": [
       "<Figure size 432x432 with 3 Axes>"
      ]
     },
     "metadata": {},
     "output_type": "display_data"
    }
   ],
   "source": [
    "with sns.axes_style('white'):\n",
    "    sns.jointplot(\"Therapy to visit\", \"Survival time\", dogs, kind='reg')\n",
    "    plt.show()"
   ]
  },
  {
   "cell_type": "code",
   "execution_count": 10,
   "metadata": {},
   "outputs": [
    {
     "name": "stdout",
     "output_type": "stream",
     "text": [
      "SVR with grid search model selection\n",
      "\n",
      "Best parameters set found on development set:\n",
      "{'C': 2, 'coef0': 100, 'degree': 3, 'epsilon': 0.0001, 'gamma': 0.0001, 'kernel': 'poly'}\n",
      "Test score: -0.049050\n"
     ]
    }
   ],
   "source": [
    "dogs = load_skl_dogs_2016(NApolicy='normal', censoringPolicy='max', newFeats=True, scaler=StandardScaler())\n",
    "\n",
    "print(\"SVR with grid search model selection\\n\")\n",
    "\n",
    "X, y = dogs.data, dogs.target\n",
    "X_Train, X_Test, y_Train, y_Test = train_test_split(X, y, test_size = 1/8)\n",
    "\n",
    "param_grid = [\n",
    "  {'C': [0.5, 1, 2, 4, 8, 16], 'epsilon':[0.0001, 0.005, 0.01, 0.05, 0.1, 0.5, 1, 5, 10], 'kernel': ['linear']},\n",
    "  {'C': [0.5, 1, 2, 4, 8, 16], 'epsilon':[0.0001, 0.005, 0.01, 0.05, 0.1, 0.5, 1, 5, 10], 'gamma': [1, 0.1, 0.01, 0.001, 0.0001], 'kernel': ['rbf']},\n",
    "  {'C': [0.5, 1, 2, 4, 8, 16], 'epsilon':[0.0001, 0.005, 0.01, 0.05, 0.1, 0.5, 1, 5, 10], 'gamma': [1, 0.1, 0.01, 0.001, 0.0001], 'degree': [1,2,3], 'coef0': [0, 1, 10, 100], 'kernel': ['poly']}\n",
    " ]\n",
    "\n",
    "svreg = GridSearchCV(svm.SVR(), param_grid, cv=6, n_jobs=8)\n",
    "svreg.fit(X_Train, y_Train)\n",
    "\n",
    "print(\"Best parameters set found on development set:\")\n",
    "print(svreg.best_params_)\n",
    "print(\"Test score: %f\" % svreg.score(X_Test,y_Test))"
   ]
  },
  {
   "cell_type": "markdown",
   "metadata": {},
   "source": [
    "## Removing highly correlated features"
   ]
  },
  {
   "cell_type": "markdown",
   "metadata": {},
   "source": [
    "Removing **Vrig tric**, **FS %**, **ESVI**, **Allo diast** e **Allo sist**"
   ]
  },
  {
   "cell_type": "code",
   "execution_count": 6,
   "metadata": {},
   "outputs": [
    {
     "data": {
      "text/html": [
       "<div>\n",
       "<style scoped>\n",
       "    .dataframe tbody tr th:only-of-type {\n",
       "        vertical-align: middle;\n",
       "    }\n",
       "\n",
       "    .dataframe tbody tr th {\n",
       "        vertical-align: top;\n",
       "    }\n",
       "\n",
       "    .dataframe thead th {\n",
       "        text-align: right;\n",
       "    }\n",
       "</style>\n",
       "<table border=\"1\" class=\"dataframe\">\n",
       "  <thead>\n",
       "    <tr style=\"text-align: right;\">\n",
       "      <th></th>\n",
       "      <th>IP Gravity</th>\n",
       "      <th>Age</th>\n",
       "      <th>Survival time</th>\n",
       "      <th>Therapy Category</th>\n",
       "      <th>Antiaritmico</th>\n",
       "      <th>Weight (Kg)</th>\n",
       "      <th>Asx/Ao</th>\n",
       "      <th>E</th>\n",
       "      <th>E/A</th>\n",
       "      <th>FE %</th>\n",
       "      <th>EDVI</th>\n",
       "      <th>Therapy to visit</th>\n",
       "    </tr>\n",
       "  </thead>\n",
       "  <tbody>\n",
       "    <tr>\n",
       "      <th>0</th>\n",
       "      <td>0</td>\n",
       "      <td>10.347945</td>\n",
       "      <td>2172</td>\n",
       "      <td>2</td>\n",
       "      <td>0</td>\n",
       "      <td>5.25</td>\n",
       "      <td>2.495146</td>\n",
       "      <td>1.15</td>\n",
       "      <td>0.974576</td>\n",
       "      <td>70.0</td>\n",
       "      <td>78.686406</td>\n",
       "      <td>0</td>\n",
       "    </tr>\n",
       "    <tr>\n",
       "      <th>1</th>\n",
       "      <td>0</td>\n",
       "      <td>15.205479</td>\n",
       "      <td>341</td>\n",
       "      <td>3</td>\n",
       "      <td>0</td>\n",
       "      <td>6.00</td>\n",
       "      <td>1.609023</td>\n",
       "      <td>1.50</td>\n",
       "      <td>1.470588</td>\n",
       "      <td>83.0</td>\n",
       "      <td>130.584237</td>\n",
       "      <td>0</td>\n",
       "    </tr>\n",
       "    <tr>\n",
       "      <th>2</th>\n",
       "      <td>0</td>\n",
       "      <td>15.769863</td>\n",
       "      <td>117</td>\n",
       "      <td>3</td>\n",
       "      <td>0</td>\n",
       "      <td>3.20</td>\n",
       "      <td>2.504202</td>\n",
       "      <td>1.87</td>\n",
       "      <td>2.077778</td>\n",
       "      <td>91.0</td>\n",
       "      <td>180.348219</td>\n",
       "      <td>0</td>\n",
       "    </tr>\n",
       "    <tr>\n",
       "      <th>3</th>\n",
       "      <td>0</td>\n",
       "      <td>13.542466</td>\n",
       "      <td>93</td>\n",
       "      <td>4</td>\n",
       "      <td>1</td>\n",
       "      <td>26.50</td>\n",
       "      <td>3.071429</td>\n",
       "      <td>2.28</td>\n",
       "      <td>2.850000</td>\n",
       "      <td>75.0</td>\n",
       "      <td>234.165258</td>\n",
       "      <td>0</td>\n",
       "    </tr>\n",
       "    <tr>\n",
       "      <th>4</th>\n",
       "      <td>0</td>\n",
       "      <td>10.720548</td>\n",
       "      <td>2172</td>\n",
       "      <td>3</td>\n",
       "      <td>0</td>\n",
       "      <td>11.00</td>\n",
       "      <td>2.536000</td>\n",
       "      <td>0.75</td>\n",
       "      <td>0.862069</td>\n",
       "      <td>69.0</td>\n",
       "      <td>139.835879</td>\n",
       "      <td>182</td>\n",
       "    </tr>\n",
       "  </tbody>\n",
       "</table>\n",
       "</div>"
      ],
      "text/plain": [
       "   IP Gravity        Age  Survival time  Therapy Category  Antiaritmico  \\\n",
       "0           0  10.347945           2172                 2             0   \n",
       "1           0  15.205479            341                 3             0   \n",
       "2           0  15.769863            117                 3             0   \n",
       "3           0  13.542466             93                 4             1   \n",
       "4           0  10.720548           2172                 3             0   \n",
       "\n",
       "   Weight (Kg)    Asx/Ao     E       E/A  FE %        EDVI  Therapy to visit  \n",
       "0         5.25  2.495146  1.15  0.974576  70.0   78.686406                 0  \n",
       "1         6.00  1.609023  1.50  1.470588  83.0  130.584237                 0  \n",
       "2         3.20  2.504202  1.87  2.077778  91.0  180.348219                 0  \n",
       "3        26.50  3.071429  2.28  2.850000  75.0  234.165258                 0  \n",
       "4        11.00  2.536000  0.75  0.862069  69.0  139.835879               182  "
      ]
     },
     "execution_count": 6,
     "metadata": {},
     "output_type": "execute_result"
    }
   ],
   "source": [
    "dogs = load_df_dogs_2016(dropColumns=dropNonNumeric+dropDates+dropIrrelevant+dropDead+[\"Vrig Tric\", \"FS %\", \"ESVI\", \"Allo diast\", \"Allo sist\"], NApolicy='normal', censoringPolicy='max', newFeats=True)\n",
    "dogs.head(5)"
   ]
  },
  {
   "cell_type": "code",
   "execution_count": 7,
   "metadata": {},
   "outputs": [
    {
     "data": {
      "image/png": "[encoded data removed]",
      "text/plain": [
       "<Figure size 432x288 with 2 Axes>"
      ]
     },
     "metadata": {},
     "output_type": "display_data"
    }
   ],
   "source": [
    "plt.title(\"Correlation heatmap\")\n",
    "sns.heatmap(dogs.corr(), cmap=\"YlGnBu\")\n",
    "plt.show()"
   ]
  },
  {
   "cell_type": "code",
   "execution_count": 11,
   "metadata": {},
   "outputs": [
    {
     "name": "stdout",
     "output_type": "stream",
     "text": [
      "SVR with grid search model selection\n",
      "\n",
      "Best parameters set found on development set:\n",
      "{'C': 2, 'coef0': 10, 'degree': 3, 'epsilon': 0.0001, 'gamma': 0.1, 'kernel': 'poly'}\n",
      "Test score: -0.156288\n"
     ]
    }
   ],
   "source": [
    "dogs = load_skl_dogs_2016(dropColumns=dropNonNumeric+dropDates+dropIrrelevant+dropDead+[\"Vrig Tric\", \"FS %\", \"ESVI\", \"Allo diast\", \"Allo sist\"], NApolicy='normal', censoringPolicy='max', newFeats=True, scaler=StandardScaler())\n",
    "\n",
    "print(\"SVR with grid search model selection\\n\")\n",
    "\n",
    "X, y = dogs.data, dogs.target\n",
    "X_Train, X_Test, y_Train, y_Test = train_test_split(X, y, test_size = 1/8)\n",
    "\n",
    "param_grid = [\n",
    "  {'C': [0.5, 1, 2, 4, 8, 16], 'epsilon':[0.0001, 0.005, 0.01, 0.05, 0.1, 0.5, 1, 5, 10], 'kernel': ['linear']},\n",
    "  {'C': [0.5, 1, 2, 4, 8, 16], 'epsilon':[0.0001, 0.005, 0.01, 0.05, 0.1, 0.5, 1, 5, 10], 'gamma': [1, 0.1, 0.01, 0.001, 0.0001], 'kernel': ['rbf']},\n",
    "  {'C': [0.5, 1, 2, 4, 8, 16], 'epsilon':[0.0001, 0.005, 0.01, 0.05, 0.1, 0.5, 1, 5, 10], 'gamma': [1, 0.1, 0.01, 0.001, 0.0001], 'degree': [1,2,3], 'coef0': [0, 1, 10, 100], 'kernel': ['poly']}\n",
    " ]\n",
    "\n",
    "svreg = GridSearchCV(svm.SVR(), param_grid, cv=6, n_jobs=8)\n",
    "svreg.fit(X_Train, y_Train)\n",
    "\n",
    "print(\"Best parameters set found on development set:\")\n",
    "print(svreg.best_params_)\n",
    "print(\"Test score: %f\" % svreg.score(X_Test,y_Test))"
   ]
  },
  {
   "cell_type": "markdown",
   "metadata": {},
   "source": [
    "Removing **Vrig tric**, **FE %**, **EDVI**, **ESVI**, **Allo sist**"
   ]
  },
  {
   "cell_type": "code",
   "execution_count": 10,
   "metadata": {},
   "outputs": [
    {
     "data": {
      "text/html": [
       "<div>\n",
       "<style>\n",
       "    .dataframe thead tr:only-child th {\n",
       "        text-align: right;\n",
       "    }\n",
       "\n",
       "    .dataframe thead th {\n",
       "        text-align: left;\n",
       "    }\n",
       "\n",
       "    .dataframe tbody tr th {\n",
       "        vertical-align: top;\n",
       "    }\n",
       "</style>\n",
       "<table border=\"1\" class=\"dataframe\">\n",
       "  <thead>\n",
       "    <tr style=\"text-align: right;\">\n",
       "      <th></th>\n",
       "      <th>IP Gravity</th>\n",
       "      <th>Age</th>\n",
       "      <th>Survival time</th>\n",
       "      <th>Therapy Category</th>\n",
       "      <th>Antiaritmico</th>\n",
       "      <th>Weight (Kg)</th>\n",
       "      <th>Asx/Ao</th>\n",
       "      <th>E</th>\n",
       "      <th>E/A</th>\n",
       "      <th>FS %</th>\n",
       "      <th>Allo diast</th>\n",
       "      <th>Therapy to visit</th>\n",
       "    </tr>\n",
       "  </thead>\n",
       "  <tbody>\n",
       "    <tr>\n",
       "      <th>0</th>\n",
       "      <td>0</td>\n",
       "      <td>10.347945</td>\n",
       "      <td>2172</td>\n",
       "      <td>2</td>\n",
       "      <td>0</td>\n",
       "      <td>5.25</td>\n",
       "      <td>2.495146</td>\n",
       "      <td>1.15</td>\n",
       "      <td>0.974576</td>\n",
       "      <td>37.0</td>\n",
       "      <td>1.584502</td>\n",
       "      <td>0</td>\n",
       "    </tr>\n",
       "    <tr>\n",
       "      <th>1</th>\n",
       "      <td>0</td>\n",
       "      <td>15.205479</td>\n",
       "      <td>341</td>\n",
       "      <td>3</td>\n",
       "      <td>0</td>\n",
       "      <td>6.00</td>\n",
       "      <td>1.609023</td>\n",
       "      <td>1.50</td>\n",
       "      <td>1.470588</td>\n",
       "      <td>51.0</td>\n",
       "      <td>1.942761</td>\n",
       "      <td>0</td>\n",
       "    </tr>\n",
       "    <tr>\n",
       "      <th>2</th>\n",
       "      <td>0</td>\n",
       "      <td>15.769863</td>\n",
       "      <td>117</td>\n",
       "      <td>3</td>\n",
       "      <td>0</td>\n",
       "      <td>3.20</td>\n",
       "      <td>2.504202</td>\n",
       "      <td>1.87</td>\n",
       "      <td>2.077778</td>\n",
       "      <td>62.0</td>\n",
       "      <td>2.213868</td>\n",
       "      <td>0</td>\n",
       "    </tr>\n",
       "    <tr>\n",
       "      <th>3</th>\n",
       "      <td>0</td>\n",
       "      <td>13.542466</td>\n",
       "      <td>93</td>\n",
       "      <td>4</td>\n",
       "      <td>1</td>\n",
       "      <td>26.50</td>\n",
       "      <td>3.071429</td>\n",
       "      <td>2.28</td>\n",
       "      <td>2.850000</td>\n",
       "      <td>44.0</td>\n",
       "      <td>2.094778</td>\n",
       "      <td>0</td>\n",
       "    </tr>\n",
       "    <tr>\n",
       "      <th>4</th>\n",
       "      <td>0</td>\n",
       "      <td>10.720548</td>\n",
       "      <td>2172</td>\n",
       "      <td>3</td>\n",
       "      <td>0</td>\n",
       "      <td>11.00</td>\n",
       "      <td>2.536000</td>\n",
       "      <td>0.75</td>\n",
       "      <td>0.862069</td>\n",
       "      <td>38.0</td>\n",
       "      <td>1.981413</td>\n",
       "      <td>182</td>\n",
       "    </tr>\n",
       "  </tbody>\n",
       "</table>\n",
       "</div>"
      ],
      "text/plain": [
       "   IP Gravity        Age  Survival time  Therapy Category  Antiaritmico  \\\n",
       "0           0  10.347945           2172                 2             0   \n",
       "1           0  15.205479            341                 3             0   \n",
       "2           0  15.769863            117                 3             0   \n",
       "3           0  13.542466             93                 4             1   \n",
       "4           0  10.720548           2172                 3             0   \n",
       "\n",
       "   Weight (Kg)    Asx/Ao     E       E/A  FS %  Allo diast  Therapy to visit  \n",
       "0         5.25  2.495146  1.15  0.974576  37.0    1.584502                 0  \n",
       "1         6.00  1.609023  1.50  1.470588  51.0    1.942761                 0  \n",
       "2         3.20  2.504202  1.87  2.077778  62.0    2.213868                 0  \n",
       "3        26.50  3.071429  2.28  2.850000  44.0    2.094778                 0  \n",
       "4        11.00  2.536000  0.75  0.862069  38.0    1.981413               182  "
      ]
     },
     "execution_count": 10,
     "metadata": {},
     "output_type": "execute_result"
    }
   ],
   "source": [
    "dogs = load_df_dogs_2016(dropColumns=dropNonNumeric+dropDates+dropIrrelevant+dropDead+[\"Vrig Tric\", \"FE %\", \"EDVI\", \"ESVI\", \"Allo sist\"], NApolicy='normal', censoringPolicy='max', newFeats=True)\n",
    "dogs.head(5)"
   ]
  },
  {
   "cell_type": "code",
   "execution_count": 11,
   "metadata": {},
   "outputs": [
    {
     "data": {
      "image/png": "[encoded data removed]",
      "text/plain": [
       "<matplotlib.figure.Figure at 0x7f86041f76a0>"
      ]
     },
     "metadata": {},
     "output_type": "display_data"
    }
   ],
   "source": [
    "plt.title(\"Correlation heatmap\")\n",
    "sns.heatmap(dogs.corr(), cmap=\"YlGnBu\")\n",
    "plt.show()"
   ]
  },
  {
   "cell_type": "code",
   "execution_count": 16,
   "metadata": {},
   "outputs": [
    {
     "name": "stdout",
     "output_type": "stream",
     "text": [
      "SVR with grid search model selection\n",
      "\n",
      "Best parameters set found on development set:\n",
      "{'C': 16, 'coef0': 10, 'degree': 1, 'epsilon': 1, 'gamma': 1, 'kernel': 'poly'}\n",
      "Test score: -0.220204\n"
     ]
    }
   ],
   "source": [
    "dogs = load_skl_dogs_2016(dropColumns=dropNonNumeric+dropDates+dropIrrelevant+dropDead+[\"Vrig Tric\", \"FE %\", \"EDVI\", \"ESVI\", \"Allo sist\"], NApolicy='normal', censoringPolicy='max', newFeats=True, scaler=StandardScaler())\n",
    "\n",
    "print(\"SVR with grid search model selection\\n\")\n",
    "\n",
    "X, y = dogs.data, dogs.target\n",
    "X_Train, X_Test, y_Train, y_Test = train_test_split(X, y, test_size = 1/8)\n",
    "\n",
    "param_grid = [\n",
    "  {'C': [0.5, 1, 2, 4, 8, 16], 'epsilon':[0.0001, 0.005, 0.01, 0.05, 0.1, 0.5, 1, 5, 10], 'kernel': ['linear']},\n",
    "  {'C': [0.5, 1, 2, 4, 8, 16], 'epsilon':[0.0001, 0.005, 0.01, 0.05, 0.1, 0.5, 1, 5, 10], 'gamma': [1, 0.1, 0.01, 0.001, 0.0001], 'kernel': ['rbf']},\n",
    "  {'C': [0.5, 1, 2, 4, 8, 16], 'epsilon':[0.0001, 0.005, 0.01, 0.05, 0.1, 0.5, 1, 5, 10], 'gamma': [1, 0.1, 0.01, 0.001, 0.0001], 'degree': [1,2,3], 'coef0': [0, 1, 10, 100], 'kernel': ['poly']}\n",
    " ]\n",
    "\n",
    "svreg = GridSearchCV(svm.SVR(), param_grid, cv=6, n_jobs=8)\n",
    "svreg.fit(X_Train, y_Train)\n",
    "\n",
    "print(\"Best parameters set found on development set:\")\n",
    "print(svreg.best_params_)\n",
    "print(\"Test score: %f\" % svreg.score(X_Test,y_Test))"
   ]
  },
  {
   "cell_type": "markdown",
   "metadata": {},
   "source": [
    "## Checking correlation between \"IP Gravity\" and \"Vrig Tric\" if zeroes are removed"
   ]
  },
  {
   "cell_type": "code",
   "execution_count": 15,
   "metadata": {},
   "outputs": [
    {
     "data": {
      "text/plain": [
       "(161, 2)"
      ]
     },
     "execution_count": 15,
     "metadata": {},
     "output_type": "execute_result"
    }
   ],
   "source": [
    "dogs = load_df_dogs_2016()[[\"IP Gravity\", \"Vrig Tric\"]]\n",
    "dogs.shape"
   ]
  },
  {
   "cell_type": "code",
   "execution_count": 16,
   "metadata": {},
   "outputs": [
    {
     "data": {
      "text/plain": [
       "(58, 2)"
      ]
     },
     "execution_count": 16,
     "metadata": {},
     "output_type": "execute_result"
    }
   ],
   "source": [
    "dogs = dogs[(dogs[\"IP Gravity\"]!=0) & (dogs[\"Vrig Tric\"]!=0)]\n",
    "dogs.shape"
   ]
  },
  {
   "cell_type": "code",
   "execution_count": 18,
   "metadata": {},
   "outputs": [
    {
     "data": {
      "text/html": [
       "<div>\n",
       "<style>\n",
       "    .dataframe thead tr:only-child th {\n",
       "        text-align: right;\n",
       "    }\n",
       "\n",
       "    .dataframe thead th {\n",
       "        text-align: left;\n",
       "    }\n",
       "\n",
       "    .dataframe tbody tr th {\n",
       "        vertical-align: top;\n",
       "    }\n",
       "</style>\n",
       "<table border=\"1\" class=\"dataframe\">\n",
       "  <thead>\n",
       "    <tr style=\"text-align: right;\">\n",
       "      <th></th>\n",
       "      <th>IP Gravity</th>\n",
       "      <th>Vrig Tric</th>\n",
       "    </tr>\n",
       "  </thead>\n",
       "  <tbody>\n",
       "    <tr>\n",
       "      <th>IP Gravity</th>\n",
       "      <td>1.000000</td>\n",
       "      <td>0.933448</td>\n",
       "    </tr>\n",
       "    <tr>\n",
       "      <th>Vrig Tric</th>\n",
       "      <td>0.933448</td>\n",
       "      <td>1.000000</td>\n",
       "    </tr>\n",
       "  </tbody>\n",
       "</table>\n",
       "</div>"
      ],
      "text/plain": [
       "            IP Gravity  Vrig Tric\n",
       "IP Gravity    1.000000   0.933448\n",
       "Vrig Tric     0.933448   1.000000"
      ]
     },
     "execution_count": 18,
     "metadata": {},
     "output_type": "execute_result"
    }
   ],
   "source": [
    "dogs.corr()"
   ]
  },
  {
   "cell_type": "code",
   "execution_count": 19,
   "metadata": {},
   "outputs": [
    {
     "data": {
      "image/png": "[encoded data removed]",
      "text/plain": [
       "<matplotlib.figure.Figure at 0x7f21011bebe0>"
      ]
     },
     "metadata": {},
     "output_type": "display_data"
    }
   ],
   "source": [
    "with sns.axes_style('white'):\n",
    "    sns.jointplot(\"Vrig Tric\", \"IP Gravity\", dogs, kind='reg')\n",
    "    plt.show()"
   ]
  },
  {
   "cell_type": "markdown",
   "metadata": {},
   "source": [
    "IP gravity is calculated as a discretization of Vrig Tric.\n",
    "\n",
    "Model without IP gravity:"
   ]
  },
  {
   "cell_type": "code",
   "execution_count": 13,
   "metadata": {},
   "outputs": [
    {
     "name": "stdout",
     "output_type": "stream",
     "text": [
      "SVR with grid search model selection\n",
      "\n",
      "Best parameters set found on development set:\n",
      "{'C': 8, 'coef0': 1, 'degree': 3, 'epsilon': 0.0001, 'gamma': 0.1, 'kernel': 'poly'}\n",
      "Test score: -0.215705\n"
     ]
    }
   ],
   "source": [
    "dogs = load_skl_dogs_2016(dropColumns=dropNonNumeric+dropDates+dropIrrelevant+dropDead+[\"IP Gravity\"], NApolicy='normal', censoringPolicy='max', newFeats=True, scaler=StandardScaler())\n",
    "\n",
    "print(\"SVR with grid search model selection\\n\")\n",
    "\n",
    "X, y = dogs.data, dogs.target\n",
    "X_Train, X_Test, y_Train, y_Test = train_test_split(X, y, test_size = 1/8)\n",
    "\n",
    "param_grid = [\n",
    "  {'C': [0.5, 1, 2, 4, 8, 16], 'epsilon':[0.0001, 0.005, 0.01, 0.05, 0.1, 0.5, 1, 5, 10], 'kernel': ['linear']},\n",
    "  {'C': [0.5, 1, 2, 4, 8, 16], 'epsilon':[0.0001, 0.005, 0.01, 0.05, 0.1, 0.5, 1, 5, 10], 'gamma': [1, 0.1, 0.01, 0.001, 0.0001], 'kernel': ['rbf']},\n",
    "  {'C': [0.5, 1, 2, 4, 8, 16], 'epsilon':[0.0001, 0.005, 0.01, 0.05, 0.1, 0.5, 1, 5, 10], 'gamma': [1, 0.1, 0.01, 0.001, 0.0001], 'degree': [1,2,3], 'coef0': [0, 1, 10, 100], 'kernel': ['poly']}\n",
    " ]\n",
    "\n",
    "svreg = GridSearchCV(svm.SVR(), param_grid, cv=6, n_jobs=8)\n",
    "svreg.fit(X_Train, y_Train)\n",
    "\n",
    "print(\"Best parameters set found on development set:\")\n",
    "print(svreg.best_params_)\n",
    "print(\"Test score: %f\" % svreg.score(X_Test,y_Test))"
   ]
  },
  {
   "cell_type": "markdown",
   "metadata": {},
   "source": [
    "# Alternative feature set\n",
    "Removing **IP Gravity**, **FE %**, **EDVI**, **ESVI**, **Allo sist**"
   ]
  },
  {
   "cell_type": "code",
   "execution_count": 15,
   "metadata": {},
   "outputs": [
    {
     "name": "stdout",
     "output_type": "stream",
     "text": [
      "SVR with grid search model selection\n",
      "\n",
      "Best parameters set found on development set:\n",
      "{'C': 1, 'coef0': 100, 'degree': 2, 'epsilon': 0.0001, 'gamma': 1, 'kernel': 'poly'}\n",
      "Test score: -0.358723\n"
     ]
    }
   ],
   "source": [
    "dogs = load_skl_dogs_2016(dropColumns=dropNonNumeric+dropDates+dropIrrelevant+dropDead+[\"IP Gravity\", \"FE %\", \"EDVI\", \"ESVI\", \"Allo sist\"], NApolicy='normal', censoringPolicy='max', newFeats=True, scaler=StandardScaler())\n",
    "\n",
    "print(\"SVR with grid search model selection\\n\")\n",
    "\n",
    "X, y = dogs.data, dogs.target\n",
    "X_Train, X_Test, y_Train, y_Test = train_test_split(X, y, test_size = 1/8)\n",
    "\n",
    "param_grid = [\n",
    "  {'C': [0.5, 1, 2, 4, 8, 16], 'epsilon':[0.0001, 0.005, 0.01, 0.05, 0.1, 0.5, 1, 5, 10], 'kernel': ['linear']},\n",
    "  {'C': [0.5, 1, 2, 4, 8, 16], 'epsilon':[0.0001, 0.005, 0.01, 0.05, 0.1, 0.5, 1, 5, 10], 'gamma': [1, 0.1, 0.01, 0.001, 0.0001], 'kernel': ['rbf']},\n",
    "  {'C': [0.5, 1, 2, 4, 8, 16], 'epsilon':[0.0001, 0.005, 0.01, 0.05, 0.1, 0.5, 1, 5, 10], 'gamma': [1, 0.1, 0.01, 0.001, 0.0001], 'degree': [1,2,3], 'coef0': [0, 1, 10, 100], 'kernel': ['poly']}\n",
    " ]\n",
    "\n",
    "svreg = GridSearchCV(svm.SVR(), param_grid, cv=6, n_jobs=8)\n",
    "svreg.fit(X_Train, y_Train)\n",
    "\n",
    "print(\"Best parameters set found on development set:\")\n",
    "print(svreg.best_params_)\n",
    "print(\"Test score: %f\" % svreg.score(X_Test,y_Test))"
   ]
  }
 ],
 "metadata": {
  "kernelspec": {
   "display_name": "Python 3",
   "language": "python",
   "name": "python3"
  },
  "language_info": {
   "codemirror_mode": {
    "name": "ipython",
    "version": 3
   },
   "file_extension": ".py",
   "mimetype": "text/x-python",
   "name": "python",
   "nbconvert_exporter": "python",
   "pygments_lexer": "ipython3",
   "version": "3.6.3"
  }
 },
 "nbformat": 4,
 "nbformat_minor": 2
}
