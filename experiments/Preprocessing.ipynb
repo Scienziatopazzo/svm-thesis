{
 "cells": [
  {
   "cell_type": "markdown",
   "metadata": {},
   "source": [
    "# Preprocessing"
   ]
  },
  {
   "cell_type": "code",
   "execution_count": 1,
   "metadata": {},
   "outputs": [],
   "source": [
    "import pandas as pd\n",
    "import numpy as np\n",
    "import time\n",
    "from datasets import *"
   ]
  },
  {
   "cell_type": "markdown",
   "metadata": {},
   "source": [
    "# Data loading"
   ]
  },
  {
   "cell_type": "code",
   "execution_count": 2,
   "metadata": {},
   "outputs": [
    {
     "data": {
      "text/plain": [
       "(161, 31)"
      ]
     },
     "execution_count": 2,
     "metadata": {},
     "output_type": "execute_result"
    }
   ],
   "source": [
    "data = load_df_dogs_2016(fixErrors=False)\n",
    "data.shape"
   ]
  },
  {
   "cell_type": "code",
   "execution_count": 3,
   "metadata": {
    "scrolled": false
   },
   "outputs": [
    {
     "data": {
      "text/html": [
       "<div>\n",
       "<style>\n",
       "    .dataframe thead tr:only-child th {\n",
       "        text-align: right;\n",
       "    }\n",
       "\n",
       "    .dataframe thead th {\n",
       "        text-align: left;\n",
       "    }\n",
       "\n",
       "    .dataframe tbody tr th {\n",
       "        vertical-align: top;\n",
       "    }\n",
       "</style>\n",
       "<table border=\"1\" class=\"dataframe\">\n",
       "  <thead>\n",
       "    <tr style=\"text-align: right;\">\n",
       "      <th></th>\n",
       "      <th>Folder</th>\n",
       "      <th>IP</th>\n",
       "      <th>IP Gravity</th>\n",
       "      <th>Vrig Tric</th>\n",
       "      <th>Birth date</th>\n",
       "      <th>First visit</th>\n",
       "      <th>Age</th>\n",
       "      <th>Therapy started</th>\n",
       "      <th>Dead</th>\n",
       "      <th>Date of death</th>\n",
       "      <th>...</th>\n",
       "      <th>Asx/Ao</th>\n",
       "      <th>E</th>\n",
       "      <th>E/A</th>\n",
       "      <th>FE %</th>\n",
       "      <th>FS %</th>\n",
       "      <th>EDVI</th>\n",
       "      <th>ESVI</th>\n",
       "      <th>Allo diast</th>\n",
       "      <th>Allo sist</th>\n",
       "      <th>Therapy to visit</th>\n",
       "    </tr>\n",
       "  </thead>\n",
       "  <tbody>\n",
       "    <tr>\n",
       "      <th>0</th>\n",
       "      <td>S0601</td>\n",
       "      <td>0</td>\n",
       "      <td>0</td>\n",
       "      <td>0.0</td>\n",
       "      <td>8.1077e+08</td>\n",
       "      <td>1.13711e+09</td>\n",
       "      <td>10.347945</td>\n",
       "      <td>1.13711e+09</td>\n",
       "      <td>0.0</td>\n",
       "      <td>1.13711e+09</td>\n",
       "      <td>...</td>\n",
       "      <td>2.495146</td>\n",
       "      <td>1.15</td>\n",
       "      <td>0.974576</td>\n",
       "      <td>70.0</td>\n",
       "      <td>37.0</td>\n",
       "      <td>78.686406</td>\n",
       "      <td>23.746696</td>\n",
       "      <td>1.584502</td>\n",
       "      <td>0.988779</td>\n",
       "      <td>0</td>\n",
       "    </tr>\n",
       "    <tr>\n",
       "      <th>1</th>\n",
       "      <td>C0621</td>\n",
       "      <td>0</td>\n",
       "      <td>0</td>\n",
       "      <td>0.0</td>\n",
       "      <td>7.34825e+08</td>\n",
       "      <td>1.21434e+09</td>\n",
       "      <td>15.205479</td>\n",
       "      <td>1.21434e+09</td>\n",
       "      <td>1.0</td>\n",
       "      <td>1.24381e+09</td>\n",
       "      <td>...</td>\n",
       "      <td>1.609023</td>\n",
       "      <td>1.50</td>\n",
       "      <td>1.470588</td>\n",
       "      <td>83.0</td>\n",
       "      <td>51.0</td>\n",
       "      <td>130.584237</td>\n",
       "      <td>23.876482</td>\n",
       "      <td>1.942761</td>\n",
       "      <td>0.986143</td>\n",
       "      <td>0</td>\n",
       "    </tr>\n",
       "    <tr>\n",
       "      <th>2</th>\n",
       "      <td>B0918</td>\n",
       "      <td>0</td>\n",
       "      <td>0</td>\n",
       "      <td>0.0</td>\n",
       "      <td>8.20451e+08</td>\n",
       "      <td>1.31777e+09</td>\n",
       "      <td>15.769863</td>\n",
       "      <td>1.31777e+09</td>\n",
       "      <td>1.0</td>\n",
       "      <td>1.32788e+09</td>\n",
       "      <td>...</td>\n",
       "      <td>2.504202</td>\n",
       "      <td>1.87</td>\n",
       "      <td>2.077778</td>\n",
       "      <td>91.0</td>\n",
       "      <td>62.0</td>\n",
       "      <td>180.348219</td>\n",
       "      <td>16.221999</td>\n",
       "      <td>2.213868</td>\n",
       "      <td>0.841053</td>\n",
       "      <td>0</td>\n",
       "    </tr>\n",
       "    <tr>\n",
       "      <th>3</th>\n",
       "      <td>R1009</td>\n",
       "      <td>0</td>\n",
       "      <td>0</td>\n",
       "      <td>0.0</td>\n",
       "      <td>9.09875e+08</td>\n",
       "      <td>1.33695e+09</td>\n",
       "      <td>13.542466</td>\n",
       "      <td>1.33695e+09</td>\n",
       "      <td>1.0</td>\n",
       "      <td>1.34498e+09</td>\n",
       "      <td>...</td>\n",
       "      <td>3.071429</td>\n",
       "      <td>2.28</td>\n",
       "      <td>2.850000</td>\n",
       "      <td>75.0</td>\n",
       "      <td>44.0</td>\n",
       "      <td>234.165258</td>\n",
       "      <td>40.151793</td>\n",
       "      <td>2.094778</td>\n",
       "      <td>1.163766</td>\n",
       "      <td>0</td>\n",
       "    </tr>\n",
       "    <tr>\n",
       "      <th>4</th>\n",
       "      <td>R1513</td>\n",
       "      <td>0</td>\n",
       "      <td>0</td>\n",
       "      <td>0.0</td>\n",
       "      <td>1.09209e+09</td>\n",
       "      <td>1.42784e+09</td>\n",
       "      <td>10.720548</td>\n",
       "      <td>1.41211e+09</td>\n",
       "      <td>0.0</td>\n",
       "      <td>1.48539e+09</td>\n",
       "      <td>...</td>\n",
       "      <td>2.536000</td>\n",
       "      <td>0.75</td>\n",
       "      <td>0.862069</td>\n",
       "      <td>69.0</td>\n",
       "      <td>38.0</td>\n",
       "      <td>139.835879</td>\n",
       "      <td>43.886680</td>\n",
       "      <td>1.981413</td>\n",
       "      <td>1.230353</td>\n",
       "      <td>182</td>\n",
       "    </tr>\n",
       "  </tbody>\n",
       "</table>\n",
       "<p>5 rows × 31 columns</p>\n",
       "</div>"
      ],
      "text/plain": [
       "  Folder  IP  IP Gravity  Vrig Tric   Birth date  First visit        Age  \\\n",
       "0  S0601   0           0        0.0   8.1077e+08  1.13711e+09  10.347945   \n",
       "1  C0621   0           0        0.0  7.34825e+08  1.21434e+09  15.205479   \n",
       "2  B0918   0           0        0.0  8.20451e+08  1.31777e+09  15.769863   \n",
       "3  R1009   0           0        0.0  9.09875e+08  1.33695e+09  13.542466   \n",
       "4  R1513   0           0        0.0  1.09209e+09  1.42784e+09  10.720548   \n",
       "\n",
       "  Therapy started  Dead Date of death       ...           Asx/Ao     E  \\\n",
       "0     1.13711e+09   0.0   1.13711e+09       ...         2.495146  1.15   \n",
       "1     1.21434e+09   1.0   1.24381e+09       ...         1.609023  1.50   \n",
       "2     1.31777e+09   1.0   1.32788e+09       ...         2.504202  1.87   \n",
       "3     1.33695e+09   1.0   1.34498e+09       ...         3.071429  2.28   \n",
       "4     1.41211e+09   0.0   1.48539e+09       ...         2.536000  0.75   \n",
       "\n",
       "        E/A  FE %  FS %        EDVI       ESVI  Allo diast Allo sist  \\\n",
       "0  0.974576  70.0  37.0   78.686406  23.746696    1.584502  0.988779   \n",
       "1  1.470588  83.0  51.0  130.584237  23.876482    1.942761  0.986143   \n",
       "2  2.077778  91.0  62.0  180.348219  16.221999    2.213868  0.841053   \n",
       "3  2.850000  75.0  44.0  234.165258  40.151793    2.094778  1.163766   \n",
       "4  0.862069  69.0  38.0  139.835879  43.886680    1.981413  1.230353   \n",
       "\n",
       "  Therapy to visit  \n",
       "0                0  \n",
       "1                0  \n",
       "2                0  \n",
       "3                0  \n",
       "4              182  \n",
       "\n",
       "[5 rows x 31 columns]"
      ]
     },
     "execution_count": 3,
     "metadata": {},
     "output_type": "execute_result"
    }
   ],
   "source": [
    "data.head(5)"
   ]
  },
  {
   "cell_type": "markdown",
   "metadata": {},
   "source": [
    "# Consistency checks"
   ]
  },
  {
   "cell_type": "code",
   "execution_count": 4,
   "metadata": {},
   "outputs": [
    {
     "name": "stdout",
     "output_type": "stream",
     "text": [
      "Verifying dates consistency\n",
      "\n",
      "Total errors: 42\n",
      "Inconsistent birth dates: 0\n",
      "Inconsistent death dates: 0\n",
      "Therapy started before first visit: 42\n"
     ]
    }
   ],
   "source": [
    "nErrors, nWrongBirth, nWrongDeath, nTherapyIncons = 0, 0, 0, 0\n",
    "print(\"Verifying dates consistency\\n\")\n",
    "\n",
    "for i, row in data.iterrows():\n",
    "    birth, fvisit, therapy, death = row[\"Birth date\"], row[\"First visit\"], row[\"Therapy started\"], row[\"Date of death\"]\n",
    "    if not birth <= fvisit <= therapy <= death:\n",
    "        #print(\"Inconsistency in row %d. Birth: %s, 1° visit: %s, therapy started: %s, death: %s\" % (i, row[\"Birth date\"], row[\"First visit\"], row[\"Therapy started\"], row[\"Date of death\"]))\n",
    "        nErrors += 1\n",
    "    if birth > fvisit or birth > therapy or birth > death:\n",
    "        nWrongBirth += 1\n",
    "    if death < birth or death < fvisit or death < therapy:\n",
    "        nWrongDeath += 1\n",
    "    if fvisit > therapy:\n",
    "        nTherapyIncons += 1\n",
    "        \n",
    "print(\"Total errors: %d\\nInconsistent birth dates: %d\\nInconsistent death dates: %d\\nTherapy started before first visit: %d\" % (nErrors, nWrongBirth, nWrongDeath, nTherapyIncons))"
   ]
  },
  {
   "cell_type": "markdown",
   "metadata": {},
   "source": [
    "All detected inconsistencies are related to therapies started before the first visit. Could possibly refer to therapies started with other clinics. Therefore potentially not an error, although the current survival time measure does not take this into account and it may be useful to try computing one that does."
   ]
  },
  {
   "cell_type": "code",
   "execution_count": 5,
   "metadata": {},
   "outputs": [
    {
     "name": "stdout",
     "output_type": "stream",
     "text": [
      "Verifying consistency in survival time (calculated from first visit)\n",
      "\n",
      "Inconsistency in row 11.\n",
      "First visit: 2011-06-08, Death: 2013-06-27, ComputedSurvTime: 750, DataSurvTime: 1115\n",
      "\n",
      "Total errors: 1\n",
      "Average days apart: -365\n"
     ]
    }
   ],
   "source": [
    "nErrors, totDaysError = 0, 0\n",
    "print(\"Verifying consistency in survival time (calculated from first visit)\\n\")\n",
    "\n",
    "for i, row in data.iterrows():\n",
    "    fvisit, death, survtime = row[\"First visit\"], row[\"Date of death\"], row[\"Survival time\"]\n",
    "    visitsurv = (death-fvisit)/(3600*24)\n",
    "    #Not caring about rounding errors\n",
    "    if visitsurv < survtime-1 or visitsurv > survtime+1:\n",
    "        print(\"Inconsistency in row %d.\\nFirst visit: %s, Death: %s, ComputedSurvTime: %d, DataSurvTime: %d\" % (i, time.strftime('%Y-%m-%d', time.localtime(fvisit)), time.strftime('%Y-%m-%d', time.localtime(death)), visitsurv, survtime))\n",
    "        nErrors += 1\n",
    "        totDaysError += (visitsurv-survtime)\n",
    "\n",
    "print(\"\\nTotal errors: %d\\nAverage days apart: %d\" % (nErrors, totDaysError/nErrors if nErrors!=0 else 0))"
   ]
  },
  {
   "cell_type": "markdown",
   "metadata": {},
   "source": [
    "Survival time values were written by hand, so the detected error was probably the result of misreading the year of an entry."
   ]
  },
  {
   "cell_type": "code",
   "execution_count": 6,
   "metadata": {},
   "outputs": [
    {
     "name": "stdout",
     "output_type": "stream",
     "text": [
      "Verifying that Cardiac Arrest implies Death\n",
      "\n",
      "Number of cardiac arrest inconsistencies: 0\n"
     ]
    }
   ],
   "source": [
    "nErrors = 0\n",
    "print(\"Verifying that Cardiac Arrest implies Death\\n\")\n",
    "\n",
    "for i, row in data.iterrows():\n",
    "    dead, mc = row[\"Dead\"], row[\"MC\"]\n",
    "    if mc and not dead:\n",
    "        nErrors += 1\n",
    "\n",
    "print(\"Number of cardiac arrest inconsistencies: %d\" % nErrors)"
   ]
  },
  {
   "cell_type": "code",
   "execution_count": 7,
   "metadata": {},
   "outputs": [
    {
     "name": "stdout",
     "output_type": "stream",
     "text": [
      "Verifying consistency of the Therapy category in relation to prescriptions\n",
      "\n",
      "Number of Therapy Category inconsistencies: 0\n"
     ]
    }
   ],
   "source": [
    "nErrors = 0\n",
    "print(\"Verifying consistency of the Therapy category in relation to prescriptions\\n\")\n",
    "\n",
    "for i, row in data.iterrows():\n",
    "    therapy, nPrescr = row[\"Therapy Category\"], row[\"Furosemide\"]+row[\"Ache-i\"]+row[\"Pimobendan\"]+row[\"Spironolattone\"]\n",
    "    if not therapy == nPrescr:\n",
    "        nErrors += 1\n",
    "\n",
    "print(\"Number of Therapy Category inconsistencies: %d\" % nErrors)"
   ]
  },
  {
   "cell_type": "code",
   "execution_count": 8,
   "metadata": {},
   "outputs": [
    {
     "name": "stdout",
     "output_type": "stream",
     "text": [
      "Verifying consistency of Age\n",
      "\n",
      "Total errors: 50\n",
      "Average years apart: 0.877043\n"
     ]
    }
   ],
   "source": [
    "nErrors, totYearsError = 0, 0\n",
    "print(\"Verifying consistency of Age\\n\")\n",
    "\n",
    "for i, row in data.iterrows():\n",
    "    birth, fvisit, age = row[\"Birth date\"], row[\"First visit\"], row[\"Age\"]\n",
    "    realage = (fvisit-birth)/(3600*24*365)\n",
    "    #Not caring about rounding errors\n",
    "    if realage < age-0.5 or realage > age+0.5:\n",
    "        #print(\"Inconsistency in row %d.\\nBirth: %s, First visit: %s, ComputedAge: %d, DataAge: %d\" % (i, time.strftime('%Y-%m-%d', time.localtime(birth)), time.strftime('%Y-%m-%d', time.localtime(fvisit)), realage, age))\n",
    "        nErrors += 1\n",
    "        totYearsError += (realage-age)\n",
    "\n",
    "print(\"Total errors: %d\\nAverage years apart: %f\" % (nErrors, totYearsError/nErrors if nErrors!=0 else 0))"
   ]
  }
 ],
 "metadata": {
  "kernelspec": {
   "display_name": "Python 3",
   "language": "python",
   "name": "python3"
  },
  "language_info": {
   "codemirror_mode": {
    "name": "ipython",
    "version": 3
   },
   "file_extension": ".py",
   "mimetype": "text/x-python",
   "name": "python",
   "nbconvert_exporter": "python",
   "pygments_lexer": "ipython3",
   "version": "3.6.3"
  }
 },
 "nbformat": 4,
 "nbformat_minor": 2
}
