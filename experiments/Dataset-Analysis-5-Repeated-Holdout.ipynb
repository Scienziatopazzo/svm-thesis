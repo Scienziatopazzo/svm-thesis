{
 "cells": [
  {
   "cell_type": "markdown",
   "metadata": {},
   "source": [
    "# Dataset Analysis 5: Repeated Holdout"
   ]
  },
  {
   "cell_type": "code",
   "execution_count": 1,
   "metadata": {},
   "outputs": [],
   "source": [
    "import pandas as pd\n",
    "import numpy as np\n",
    "from datasets import *\n",
    "from training import *\n",
    "\n",
    "from sklearn import svm\n",
    "from sklearn.model_selection import GridSearchCV\n",
    "from sklearn.preprocessing import StandardScaler"
   ]
  },
  {
   "cell_type": "markdown",
   "metadata": {},
   "source": [
    "**Normal generated NA, max censoring**"
   ]
  },
  {
   "cell_type": "code",
   "execution_count": 2,
   "metadata": {},
   "outputs": [
    {
     "data": {
      "text/plain": [
       "(161, 16)"
      ]
     },
     "execution_count": 2,
     "metadata": {},
     "output_type": "execute_result"
    }
   ],
   "source": [
    "dogs = load_skl_dogs_2016(NApolicy='normal', censoringPolicy='max', scaler=StandardScaler())\n",
    "dogs.data.shape"
   ]
  },
  {
   "cell_type": "markdown",
   "metadata": {},
   "source": [
    "Sklearn GridSearchCV"
   ]
  },
  {
   "cell_type": "code",
   "execution_count": 5,
   "metadata": {},
   "outputs": [
    {
     "name": "stdout",
     "output_type": "stream",
     "text": [
      "SVR with grid search model selection\n",
      "\n",
      "Best parameters set found on development set:\n",
      "{'C': 2, 'coef0': 100, 'degree': 3, 'epsilon': 10, 'gamma': 0.0001, 'kernel': 'poly'}\n",
      "Test score: 0.077740\n",
      "Mean score of model on random test splits: -0.225159\n"
     ]
    }
   ],
   "source": [
    "print(\"SVR with grid search model selection\\n\")\n",
    "\n",
    "X, y = dogs.data, dogs.target\n",
    "\n",
    "param_grid = [\n",
    "  {'C': [0.5, 1, 2, 4, 8, 16], 'epsilon':[0.0001, 0.005, 0.01, 0.05, 0.1, 0.5, 1, 5, 10], 'kernel': ['linear']},\n",
    "  {'C': [0.5, 1, 2, 4, 8, 16], 'epsilon':[0.0001, 0.005, 0.01, 0.05, 0.1, 0.5, 1, 5, 10], 'gamma': [1, 0.1, 0.01, 0.001, 0.0001], 'kernel': ['rbf']},\n",
    "  {'C': [0.5, 1, 2, 4, 8, 16], 'epsilon':[0.0001, 0.005, 0.01, 0.05, 0.1, 0.5, 1, 5, 10], 'gamma': [1, 0.1, 0.01, 0.001, 0.0001], 'degree': [1,2,3], 'coef0': [0, 1, 10, 100], 'kernel': ['poly']}\n",
    " ]\n",
    "\n",
    "best_result = (0,-np.inf)\n",
    "\n",
    "for i in range(10):\n",
    "    X_Train, X_Test, y_Train, y_Test = train_test_split(X, y, test_size = 1/8)\n",
    "    svreg = GridSearchCV(svm.SVR(), param_grid, cv=6, n_jobs=8)\n",
    "    svreg.fit(X_Train, y_Train)\n",
    "    curr_result = (svreg.best_params_, svreg.score(X_Test, y_Test))\n",
    "    if curr_result[1] > best_result[1]:\n",
    "        best_result = curr_result\n",
    "\n",
    "print(\"Best parameters set found on development set:\")\n",
    "print(best_result[0])\n",
    "print(\"Test score: %f\" % best_result[1])\n",
    "\n",
    "mean_score = 0\n",
    "for i in range(10):\n",
    "    X_Train, X_Test, y_Train, y_Test = train_test_split(X, y, test_size=25)\n",
    "    best_params = best_result[0]\n",
    "    best_svr = svm.SVR(**best_params)\n",
    "    best_svr.fit(X_Train, y_Train)\n",
    "    mean_score += best_svr.score(X_Test, y_Test)/10\n",
    "print(\"Mean score of model on random test splits: %f\" % mean_score)"
   ]
  },
  {
   "cell_type": "markdown",
   "metadata": {},
   "source": [
    "Repeated Holdout"
   ]
  },
  {
   "cell_type": "code",
   "execution_count": 3,
   "metadata": {},
   "outputs": [
    {
     "name": "stdout",
     "output_type": "stream",
     "text": [
      "({'C': 1, 'coef0': 100, 'degree': 3, 'epsilon': 1, 'gamma': 0.001, 'kernel': 'poly'}, 0.17374976769518824)\n"
     ]
    }
   ],
   "source": [
    "X, y = dogs.data, dogs.target\n",
    "param_grid = [\n",
    "  {'C': [0.5, 1, 2, 4, 8, 16], 'epsilon':[0.0001, 0.005, 0.01, 0.05, 0.1, 0.5, 1, 5, 10], 'gamma': ['auto'], 'degree': [0], 'coef0':[0], 'kernel': ['linear']},\n",
    "  {'C': [0.5, 1, 2, 4, 8, 16], 'epsilon':[0.0001, 0.005, 0.01, 0.05, 0.1, 0.5, 1, 5, 10], 'gamma': [1, 0.1, 0.01, 0.001, 0.0001], 'degree': [0], 'coef0':[0], 'kernel': ['rbf']},\n",
    "  {'C': [0.5, 1, 2, 4, 8, 16], 'epsilon':[0.0001, 0.005, 0.01, 0.05, 0.1, 0.5, 1, 5, 10], 'gamma': [1, 0.1, 0.01, 0.001, 0.0001], 'degree': [1,2,3], 'coef0': [0, 1, 10, 100], 'kernel': ['poly']}\n",
    " ]\n",
    "\n",
    "best_result = (0,-np.inf)\n",
    "\n",
    "for i in range(10):\n",
    "    curr_result = SVR_gridsearch_holdout(X, y, svm.SVR, param_grid, 20, 25)\n",
    "    if curr_result[1] > best_result[1]:\n",
    "        best_result = curr_result\n",
    "\n",
    "print(best_result)"
   ]
  },
  {
   "cell_type": "code",
   "execution_count": 4,
   "metadata": {},
   "outputs": [
    {
     "name": "stdout",
     "output_type": "stream",
     "text": [
      "-0.21681542458613356\n"
     ]
    }
   ],
   "source": [
    "mean_score = 0\n",
    "for i in range(10):\n",
    "    X_Train, X_Test, y_Train, y_Test = train_test_split(X, y, test_size=25)\n",
    "    best_params = best_result[0]\n",
    "    best_svr = svm.SVR(**best_params)\n",
    "    best_svr.fit(X_Train, y_Train)\n",
    "    mean_score += best_svr.score(X_Test, y_Test)/10\n",
    "print(mean_score)"
   ]
  },
  {
   "cell_type": "markdown",
   "metadata": {},
   "source": [
    "**Normal generated NA, drop censoring**"
   ]
  },
  {
   "cell_type": "code",
   "execution_count": 8,
   "metadata": {},
   "outputs": [
    {
     "data": {
      "text/plain": [
       "(118, 16)"
      ]
     },
     "execution_count": 8,
     "metadata": {},
     "output_type": "execute_result"
    }
   ],
   "source": [
    "dogs = load_skl_dogs_2016(NApolicy='normal', censoringPolicy='drop', scaler=StandardScaler())\n",
    "dogs.data.shape"
   ]
  },
  {
   "cell_type": "code",
   "execution_count": 9,
   "metadata": {},
   "outputs": [
    {
     "name": "stdout",
     "output_type": "stream",
     "text": [
      "((8, 0, 3, 0.0001, 0.1, 'poly'), 0.01726788895510678)\n"
     ]
    }
   ],
   "source": [
    "X, y = dogs.data, dogs.target\n",
    "param_grid = [\n",
    "  {'C': [0.5, 1, 2, 4, 8, 16], 'epsilon':[0.0001, 0.005, 0.01, 0.05, 0.1, 0.5, 1, 5, 10], 'gamma': ['auto'], 'degree': [0], 'coef0':[0], 'kernel': ['linear']},\n",
    "  {'C': [0.5, 1, 2, 4, 8, 16], 'epsilon':[0.0001, 0.005, 0.01, 0.05, 0.1, 0.5, 1, 5, 10], 'gamma': [1, 0.1, 0.01, 0.001, 0.0001], 'degree': [0], 'coef0':[0], 'kernel': ['rbf']},\n",
    "  {'C': [0.5, 1, 2, 4, 8, 16], 'epsilon':[0.0001, 0.005, 0.01, 0.05, 0.1, 0.5, 1, 5, 10], 'gamma': [1, 0.1, 0.01, 0.001, 0.0001], 'degree': [1,2,3], 'coef0': [0, 1, 10, 100], 'kernel': ['poly']}\n",
    " ]\n",
    "\n",
    "best_result = (0,-np.inf)\n",
    "\n",
    "for i in range(10):\n",
    "    curr_result = SVR_gridsearch_holdout(X, y, svm.SVR, param_grid, 10, 15)\n",
    "    if curr_result[1] > best_result[1]:\n",
    "        best_result = curr_result\n",
    "\n",
    "print(best_result)"
   ]
  },
  {
   "cell_type": "code",
   "execution_count": 10,
   "metadata": {},
   "outputs": [
    {
     "name": "stdout",
     "output_type": "stream",
     "text": [
      "-0.12922320322938202\n"
     ]
    }
   ],
   "source": [
    "mean_score = 0\n",
    "for i in range(10):\n",
    "    X_Train, X_Test, y_Train, y_Test = train_test_split(X, y, test_size=25)\n",
    "    best_params = best_result[0]\n",
    "    best_svr = svm.SVR(C=best_params[0], coef0=best_params[1], degree=best_params[2], epsilon=best_params[3], gamma=best_params[4], kernel=best_params[5])\n",
    "    best_svr.fit(X_Train, y_Train)\n",
    "    mean_score += best_svr.score(X_Test, y_Test)/10\n",
    "print(mean_score)"
   ]
  }
 ],
 "metadata": {
  "kernelspec": {
   "display_name": "Python 3",
   "language": "python",
   "name": "python3"
  },
  "language_info": {
   "codemirror_mode": {
    "name": "ipython",
    "version": 3
   },
   "file_extension": ".py",
   "mimetype": "text/x-python",
   "name": "python",
   "nbconvert_exporter": "python",
   "pygments_lexer": "ipython3",
   "version": "3.6.3"
  }
 },
 "nbformat": 4,
 "nbformat_minor": 2
}
