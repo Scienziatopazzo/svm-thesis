{
 "cells": [
  {
   "cell_type": "markdown",
   "metadata": {},
   "source": [
    "# CustomSVR for censored datasets"
   ]
  },
  {
   "cell_type": "code",
   "execution_count": 1,
   "metadata": {},
   "outputs": [],
   "source": [
    "import pandas as pd\n",
    "import numpy as np\n",
    "import customsvr\n",
    "from datasets import *\n",
    "from training import *\n",
    "\n",
    "from sklearn.preprocessing import StandardScaler, QuantileTransformer\n",
    "from sklearn.neighbors import LocalOutlierFactor"
   ]
  },
  {
   "cell_type": "markdown",
   "metadata": {},
   "source": [
    "## Standard CustomSVR"
   ]
  },
  {
   "cell_type": "code",
   "execution_count": 3,
   "metadata": {},
   "outputs": [
    {
     "name": "stdout",
     "output_type": "stream",
     "text": [
      "Custom SVR on dogs dataset\n",
      "\n",
      "Best parameters set found on development set:\n",
      "{'C': 5, 'coef0': 100, 'degree': 2, 'epsilon': 0.01, 'gamma': 0.01, 'kernel': 'poly'}\n",
      "Test score: 0.607143\n"
     ]
    }
   ],
   "source": [
    "dogs = load_skl_dogs_2016(NApolicy='normal', censSVR=True)\n",
    "print(\"Custom SVR on dogs dataset\\n\")\n",
    "\n",
    "X, y = dogs.data, dogs.target\n",
    "param_grid = [\n",
    "    {'C': [1, 5, 10], 'epsilon':[0.01, 0.1, 1, 10, 50], 'gamma': [0.01, 0.001, 0.0001], 'degree': [2,3], 'coef0': [0, 1, 10, 100], 'kernel': ['poly']}\n",
    " ]\n",
    "\n",
    "result = SVR_gridsearch_holdout(X, y, customsvr.StandardCensSVR, param_grid, 10, 15, runs=5, scaler=StandardScaler, outlier_detector=LocalOutlierFactor(), censSVR=True, custom_metric=\"c-index\")\n",
    "\n",
    "print(\"Best parameters set found on development set:\")\n",
    "print(result[0])\n",
    "print(\"Test score: %f\" % result[1])"
   ]
  },
  {
   "cell_type": "markdown",
   "metadata": {},
   "source": [
    "## SVCR"
   ]
  },
  {
   "cell_type": "code",
   "execution_count": 4,
   "metadata": {},
   "outputs": [
    {
     "data": {
      "text/plain": [
       "(161, 17)"
      ]
     },
     "execution_count": 4,
     "metadata": {},
     "output_type": "execute_result"
    }
   ],
   "source": [
    "dogs = load_skl_dogs_2016(NApolicy='normal', censSVR=True)\n",
    "dogs.data.shape"
   ]
  },
  {
   "cell_type": "code",
   "execution_count": 5,
   "metadata": {},
   "outputs": [
    {
     "name": "stdout",
     "output_type": "stream",
     "text": [
      "SVCR on dogs dataset\n",
      "\n",
      "Best parameters set found on development set:\n",
      "{'C': 5, 'coef0': 1, 'degree': 2, 'gamma': 0.001, 'kernel': 'poly'}\n",
      "Test score: 0.750000\n"
     ]
    }
   ],
   "source": [
    "print(\"SVCR on dogs dataset\\n\")\n",
    "\n",
    "X, y = dogs.data, dogs.target\n",
    "param_grid = [\n",
    "    {'C': [1, 5, 10], 'gamma': [0.01, 0.001, 0.0001], 'degree': [2,3], 'coef0': [0, 1, 10, 100], 'kernel': ['poly']}\n",
    " ]\n",
    "\n",
    "result = SVR_gridsearch_holdout(X, y, customsvr.SVCR, param_grid, 10, 15, runs=5, scaler=StandardScaler, outlier_detector=LocalOutlierFactor(), censSVR=True, custom_metric=\"c-index\")\n",
    "\n",
    "print(\"Best parameters set found on development set:\")\n",
    "print(result[0])\n",
    "print(\"Test score: %f\" % result[1])"
   ]
  },
  {
   "cell_type": "markdown",
   "metadata": {},
   "source": [
    "## SVRC"
   ]
  },
  {
   "cell_type": "code",
   "execution_count": 2,
   "metadata": {},
   "outputs": [
    {
     "name": "stdout",
     "output_type": "stream",
     "text": [
      "SVRC on dogs dataset\n",
      "\n",
      "Best parameters set found on development set:\n",
      "{'C': (1, 5), 'CC': (10, 5), 'coef0': 100, 'degree': 2, 'epsilon': 1, 'epsilonC': 0.1, 'gamma': 0.01, 'kernel': 'poly'}\n",
      "Test score: 0.681818\n"
     ]
    }
   ],
   "source": [
    "dogs = load_skl_dogs_2016(NApolicy='normal', censSVR=True)\n",
    "print(\"SVRC on dogs dataset\\n\")\n",
    "\n",
    "X, y = dogs.data, dogs.target\n",
    "param_grid = [\n",
    "    {'C': [(1,5), (1,10), (5,10)], 'CC': [(5,1), (10,1), (10,5)], 'epsilon':[0.1, 1, 10], 'epsilonC':[0.1, 1, 10], 'gamma': [0.01, 0.001, 0.0001], 'degree': [2,3], 'coef0': [0, 1, 10, 100], 'kernel': ['poly']}\n",
    " ]\n",
    "\n",
    "result = SVR_gridsearch_holdout(X, y, customsvr.SVRC, param_grid, 10, 15, runs=1, scaler=StandardScaler, outlier_detector=LocalOutlierFactor(), censSVR=True, custom_metric=\"c-index\")\n",
    "\n",
    "print(\"Best parameters set found on development set:\")\n",
    "print(result[0])\n",
    "print(\"Test score: %f\" % result[1])"
   ]
  },
  {
   "cell_type": "markdown",
   "metadata": {},
   "source": [
    "## RankSVMC (Simplified constraints)"
   ]
  },
  {
   "cell_type": "code",
   "execution_count": 3,
   "metadata": {},
   "outputs": [
    {
     "name": "stdout",
     "output_type": "stream",
     "text": [
      "RankSVMC on dogs dataset\n",
      "\n",
      "Best parameters set found on development set:\n",
      "{'C': 10, 'coef0': 0, 'degree': 3, 'gamma': 0.01, 'kernel': 'poly'}\n",
      "Test score: 0.464286\n"
     ]
    }
   ],
   "source": [
    "dogs = load_skl_dogs_2016(NApolicy='normal', censSVR=True)\n",
    "print(\"RankSVMC on dogs dataset\\n\")\n",
    "\n",
    "X, y = dogs.data, dogs.target\n",
    "param_grid = [\n",
    "    {'C': [1, 5, 10], 'gamma': [0.01, 0.001, 0.0001], 'degree': [2,3], 'coef0': [0, 1, 10, 100], 'kernel': ['poly']}\n",
    " ]\n",
    "\n",
    "result = SVR_gridsearch_holdout(X, y, customsvr.SimpleRankSVMC, param_grid, 10, 15, runs=5, scaler=StandardScaler, outlier_detector=LocalOutlierFactor(), censSVR=True, custom_metric=\"c-index\")\n",
    "\n",
    "print(\"Best parameters set found on development set:\")\n",
    "print(result[0])\n",
    "print(\"Test score: %f\" % result[1])"
   ]
  },
  {
   "cell_type": "markdown",
   "metadata": {},
   "source": [
    "## Model 1 (from Van Belle et al.)"
   ]
  },
  {
   "cell_type": "code",
   "execution_count": 4,
   "metadata": {},
   "outputs": [
    {
     "name": "stdout",
     "output_type": "stream",
     "text": [
      "Model 1 on dogs dataset\n",
      "\n",
      "Best parameters set found on development set:\n",
      "{'C': 10, 'coef0': 100, 'degree': 2, 'gamma': 0.01, 'kernel': 'poly'}\n",
      "Test score: 0.548387\n"
     ]
    }
   ],
   "source": [
    "dogs = load_skl_dogs_2016(NApolicy='normal', censSVR=True)\n",
    "print(\"Model 1 on dogs dataset\\n\")\n",
    "\n",
    "X, y = dogs.data, dogs.target\n",
    "param_grid = [\n",
    "    {'C': [1, 5, 10], 'gamma': [0.01, 0.001, 0.0001], 'degree': [2,3], 'coef0': [0, 1, 10, 100], 'kernel': ['poly']}\n",
    " ]\n",
    "\n",
    "result = SVR_gridsearch_holdout(X, y, customsvr.Model1, param_grid, 10, 15, runs=5, scaler=StandardScaler, outlier_detector=LocalOutlierFactor(), censSVR=True, custom_metric=\"c-index\")\n",
    "\n",
    "print(\"Best parameters set found on development set:\")\n",
    "print(result[0])\n",
    "print(\"Test score: %f\" % result[1])"
   ]
  },
  {
   "cell_type": "markdown",
   "metadata": {},
   "source": [
    "## Model 2 (from Van Belle et al.)"
   ]
  },
  {
   "cell_type": "code",
   "execution_count": 2,
   "metadata": {},
   "outputs": [
    {
     "name": "stdout",
     "output_type": "stream",
     "text": [
      "Model 2 on dogs dataset\n",
      "\n",
      "Best parameters set found on development set:\n",
      "{'C_pred': 5, 'C_rank': 1, 'coef0': 0, 'degree': 2, 'gamma': 0.001, 'kernel': 'poly'}\n",
      "Test score: 0.533333\n"
     ]
    }
   ],
   "source": [
    "dogs = load_skl_dogs_2016(NApolicy='normal', censSVR=True)\n",
    "print(\"Model 2 on dogs dataset\\n\")\n",
    "\n",
    "X, y = dogs.data, dogs.target\n",
    "param_grid = [\n",
    "    {'C_rank': [1, 5, 10], 'C_pred': [1, 5, 10], 'gamma': [0.01, 0.001, 0.0001], 'degree': [2,3], 'coef0': [0, 1, 10, 100], 'kernel': ['poly']}\n",
    " ]\n",
    "\n",
    "result = SVR_gridsearch_holdout(X, y, customsvr.Model2, param_grid, 10, 15, runs=2, scaler=StandardScaler, outlier_detector=LocalOutlierFactor(), censSVR=True, custom_metric=\"c-index\")\n",
    "\n",
    "print(\"Best parameters set found on development set:\")\n",
    "print(result[0])\n",
    "print(\"Test score: %f\" % result[1])"
   ]
  }
 ],
 "metadata": {
  "kernelspec": {
   "display_name": "Python 3",
   "language": "python",
   "name": "python3"
  },
  "language_info": {
   "codemirror_mode": {
    "name": "ipython",
    "version": 3
   },
   "file_extension": ".py",
   "mimetype": "text/x-python",
   "name": "python",
   "nbconvert_exporter": "python",
   "pygments_lexer": "ipython3",
   "version": "3.6.3"
  }
 },
 "nbformat": 4,
 "nbformat_minor": 2
}
